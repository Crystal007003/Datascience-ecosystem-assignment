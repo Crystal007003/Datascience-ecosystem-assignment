{
 "cells": [
  {
   "cell_type": "markdown",
   "id": "82acaf49-dae4-4cac-9ff8-9c9c8e922f9d",
   "metadata": {},
   "source": [
    "# Data Science Tools and Ecosystem"
   ]
  },
  {
   "cell_type": "markdown",
   "id": "4b6853c8-e2e4-4ab3-84e6-3acad7224fb5",
   "metadata": {},
   "source": [
    "## Introduction ##\n",
    "In this notebook, Data Science Tools and Ecosystem are summarized."
   ]
  },
  {
   "cell_type": "markdown",
   "id": "1e209b05-a83a-4977-b7ad-096c187cf9e0",
   "metadata": {},
   "source": [
    "Some of the widely used languages by Data Scientists include:\n",
    "  1. Python\n",
    "  2. R\n",
    "  3. Java\n",
    "  4. C++\n",
    "  5. Scala"
   ]
  },
  {
   "cell_type": "markdown",
   "id": "7f5fb43b-ba5d-4bf9-a6be-b429caf33496",
   "metadata": {},
   "source": [
    "Some of the widely used libraries used by Data Scientists include:\n",
    "  1. Pandas\n",
    "  2. TensorFlow\n",
    "  3. Matplotlib\n",
    "  4. Seaborn\n",
    "  5. SciKit"
   ]
  },
  {
   "cell_type": "markdown",
   "id": "fda8278e-404b-46cf-841f-b5f06aecc2d1",
   "metadata": {},
   "source": [
    "Tools used by data scientist\n",
    "\n",
    "|Data Science Tools|\n",
    "|:----------------:|\n",
    "|Jupyter notebook  |\n",
    "|Tensorflow        |\n",
    "|MySql             |\n",
    "|Tableau           |\n",
    "|ApacheAirflow     |"
   ]
  },
  {
   "cell_type": "markdown",
   "id": "9e65337d-9d3b-46df-b447-df5eca11f00c",
   "metadata": {},
   "source": [
    "# Below are a few examples of evaluating arithmetic expressions in Python #\n",
    "* Multiplication\n",
    "* Addition\n",
    "* Subtraction "
   ]
  },
  {
   "cell_type": "code",
   "execution_count": 3,
   "id": "e5fe361f-aa2b-4e33-b7cc-96a5eac0ac00",
   "metadata": {},
   "outputs": [
    {
     "data": {
      "text/plain": [
       "17"
      ]
     },
     "execution_count": 3,
     "metadata": {},
     "output_type": "execute_result"
    }
   ],
   "source": [
    "# This a simple arithmetic expression to mutiply then add integers\n",
    "(3*4)+5"
   ]
  },
  {
   "cell_type": "code",
   "execution_count": 4,
   "id": "fb745da7-7cae-4dc0-ba6b-a4e9119757d2",
   "metadata": {},
   "outputs": [
    {
     "data": {
      "text/plain": [
       "3.3333333333333335"
      ]
     },
     "execution_count": 4,
     "metadata": {},
     "output_type": "execute_result"
    }
   ],
   "source": [
    "# This will convert 200 minutes to hours by diving by 60\n",
    "200/60"
   ]
  },
  {
   "cell_type": "markdown",
   "id": "18257f5b-3753-466d-8787-99f45f88d341",
   "metadata": {},
   "source": [
    "# Objectives:\n",
    "* Identify the popular languages used by data scientists\n",
    "* Highlight the commonly used libraries in data science\n",
    "* Present the tools utilized by data scientists in a tabular format\n",
    "* Assess basic arithmetic expressions"
   ]
  },
  {
   "cell_type": "markdown",
   "id": "0eb8060e-64c9-4350-a326-c52c558ad527",
   "metadata": {},
   "source": [
    "## Author\n",
    "ABISOYE DAMILOLA"
   ]
  }
 ],
 "metadata": {
  "kernelspec": {
   "display_name": "Python 3 (ipykernel)",
   "language": "python",
   "name": "python3"
  },
  "language_info": {
   "codemirror_mode": {
    "name": "ipython",
    "version": 3
   },
   "file_extension": ".py",
   "mimetype": "text/x-python",
   "name": "python",
   "nbconvert_exporter": "python",
   "pygments_lexer": "ipython3",
   "version": "3.12.4"
  }
 },
 "nbformat": 4,
 "nbformat_minor": 5
}
